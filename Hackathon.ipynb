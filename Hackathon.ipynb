{
 "cells": [
  {
   "cell_type": "code",
   "execution_count": 2,
   "id": "84cce5f0-90ab-4a0b-a762-862f731d959d",
   "metadata": {},
   "outputs": [],
   "source": [
    "from langchain.document_loaders import UnstructuredHTMLLoader"
   ]
  },
  {
   "cell_type": "code",
   "execution_count": 3,
   "id": "b34e2f0a-3cba-45ac-b428-dad83d93d8a1",
   "metadata": {},
   "outputs": [],
   "source": [
    "loaders = [\n",
    "    UnstructuredHTMLLoader(\"example2.html\"),\n",
    "    UnstructuredHTMLLoader(\"example3.html\"),\n",
    "    UnstructuredHTMLLoader(\"example4.html\"),\n",
    "    UnstructuredHTMLLoader(\"example5.html\"),\n",
    "    UnstructuredHTMLLoader(\"example6.html\"),\n",
    "    UnstructuredHTMLLoader(\"example7.html\"),\n",
    "    UnstructuredHTMLLoader(\"example8.html\"),\n",
    "    UnstructuredHTMLLoader(\"example9.html\"),\n",
    "    UnstructuredHTMLLoader(\"example10.html\"),\n",
    "    UnstructuredHTMLLoader(\"example11.html\"),\n",
    "    UnstructuredHTMLLoader(\"example12.html\"),\n",
    "    UnstructuredHTMLLoader(\"example13.html\")\n",
    "]\n",
    "docs = []\n",
    "for l in loaders:\n",
    "    docs.extend(l.load())"
   ]
  },
  {
   "cell_type": "code",
   "execution_count": 4,
   "id": "0425beec-a0cc-4b94-b28c-3a0f7252b738",
   "metadata": {},
   "outputs": [],
   "source": [
    "import os\n",
    "#from openai.api_resources import engine\n",
    "os.environ[\"OPENAI_API_TYPE\"] = \"azure\"\n",
    "os.environ[\"OPENAI_API_VERSION\"] = \"2023-05-15\"\n",
    "os.environ[\"OPENAI_API_KEY\"] = \"...\"\n",
    "os.environ[\"OPENAI_API_BASE\"] = \"...\""
   ]
  },
  {
   "cell_type": "code",
   "execution_count": 5,
   "id": "8ccb66a1-f1cd-411e-b3fd-76b8e8c5aa07",
   "metadata": {},
   "outputs": [
    {
     "name": "stderr",
     "output_type": "stream",
     "text": [
      "Created a chunk of size 2459, which is longer than the specified 1000\n"
     ]
    }
   ],
   "source": [
    "from langchain.document_loaders import TextLoader\n",
    "from langchain.embeddings.openai import OpenAIEmbeddings\n",
    "from langchain.text_splitter import CharacterTextSplitter\n",
    "from langchain.vectorstores import Chroma\n",
    "from langchain.embeddings import HuggingFaceEmbeddings\n",
    "from langchain.text_splitter import CharacterTextSplitter\n",
    "from langchain.embeddings import OpenAIEmbeddings\n",
    "from langchain.document_loaders import TextLoader\n",
    "from langchain.vectorstores import FAISS\n",
    "from langchain.embeddings import HuggingFaceInstructEmbeddings\n",
    "\n",
    "# Load the document, split it into chunks, embed each chunk and load it into the vector store.\n",
    "#raw_documents = TextLoader('../../../state_of_the_union.txt').load()\n",
    "text_splitter = CharacterTextSplitter(chunk_size=1000, chunk_overlap=200)\n",
    "documents = text_splitter.split_documents(docs)\n",
    "embeddings = HuggingFaceEmbeddings()\n",
    "#embeddings = HuggingFaceInstructEmbeddings(model_name = \"hkunlp/instructor-xl\")\n",
    "db = FAISS.from_documents(documents, embeddings)"
   ]
  },
  {
   "cell_type": "code",
   "execution_count": 6,
   "id": "77927176-a1be-4a2d-9a98-4594d32b7bbf",
   "metadata": {},
   "outputs": [],
   "source": [
    "# Helper function for printing docs\n",
    "\n",
    "def pretty_print_docs(docs):\n",
    "    print(f\"\\n{'-' * 100}\\n\".join([f\"Document {i+1}:\\n\\n\" + d.page_content for i, d in enumerate(docs)]))"
   ]
  },
  {
   "cell_type": "code",
   "execution_count": 7,
   "id": "401c2cb5-0a96-4b3f-b160-e2629774021e",
   "metadata": {
    "scrolled": true
   },
   "outputs": [
    {
     "name": "stdout",
     "output_type": "stream",
     "text": [
      "Document 1:\n",
      "\n",
      "Microsoft was rich, powerful and ambitious. It had started to move beyond software. In 1996, it entered the media business in a partnership with NBC, setting up the cable channel, MSNBC, and a website, msnbc.com (Microsoft shed its stakes in both, years later).\n",
      "\n",
      "Executives in industry after industry worried about what Microsoft might do next, sharing a sentiment expressed by Rupert Murdoch, chairman of News Corp: “Everybody in the communications business is paranoid of Microsoft, including me.”\n",
      "\n",
      "Today, Google does not loom as large as Microsoft once did. It is one member of the Big Tech club. It is an undisputed giant in search and online advertising, and its software and artificial intelligence prowess can extend to other industries. But its Big Tech peers — Amazon, Apple, Meta (Facebook) and even Microsoft — are all under scrutiny in the United States and abroad.\n",
      "----------------------------------------------------------------------------------------------------\n",
      "Document 2:\n",
      "\n",
      "1. Microsoft\n",
      "\n",
      "Parts of Microsoft's product portfolio have been in a cyclical decline over the past year, but its diverse business proved that it can take those hits in stride. Revenue last quarter rose 10% year over year after accounting for currency exchange rate shifts, despite slumping demand for PCs and most consumer tech devices. Microsoft offset these challenges with soaring growth in its cloud and enterprise services, anchored by the popular Azure platform.\n",
      "\n",
      "Investors will have trouble finding a more financially impressive business. Microsoft routinely turns more than 40% of its sales into operating profit, for example. That key metric jumped a blazing 21% in the quarter that ended in late June. Microsoft also pays a modest, but quickly growing, dividend.\n",
      "----------------------------------------------------------------------------------------------------\n",
      "Document 3:\n",
      "\n",
      "It was a trial that often dealt with cerebral concepts like “network effects” and “switching costs.” Yet The Times gave it the kind of day-to-day coverage ordinarily reserved for very few courtroom dramas over the years, like the O.J. Simpson trial and the Lindbergh kidnapping trial.\n",
      "\n",
      "Many days, there were spin sessions on the courthouse steps. Microsoft representatives would say the government had presented isolated snippets of text, taken out of context, certainly not proof of anti-competitive conduct. Lawyers for the Justice Department and states who joined the lawsuit would mostly say the damning testimony spoke for itself.\n",
      "\n",
      "Microsoft was found by a federal judge to have repeatedly violated the nation’s antitrust laws. An appeals court upheld most of that decision but was skeptical of the government’s preferred remedy — breaking up the company.\n",
      "----------------------------------------------------------------------------------------------------\n",
      "Document 4:\n",
      "\n",
      "After the George W. Bush administration came to power, the Justice Department and Microsoft reached a settlement. The resulting consent decree prohibited Microsoft from imposing restrictive contracts, freed PC makers to load and feature other companies’ software and forced Microsoft to disclose more technical information.\n",
      "\n",
      "Many people criticized the consent decree as toothless. David Yoffie, a professor at the Harvard Business School, was initially a critic, but his views have changed.\n",
      "\n",
      "Today, Mr. Yoffie teaches a course on antitrust and technology, and it begins with the Microsoft consent decree. “There were a litany of actions that were no longer possible because of the consent decree,” he said. “It did limit Microsoft’s ability to go after newcomers, not ones trying to compete with Microsoft head-on but at an angle.”\n"
     ]
    }
   ],
   "source": [
    "retriever = db.as_retriever()\n",
    "\n",
    "docs = retriever.get_relevant_documents(\"What are positive, negative and neutral news about Microsoft?\")\n",
    "pretty_print_docs(docs)"
   ]
  },
  {
   "cell_type": "code",
   "execution_count": 8,
   "id": "dfab566b-d1b8-4c5b-8c08-266a57755ab9",
   "metadata": {},
   "outputs": [
    {
     "data": {
      "text/plain": [
       "\"Positive News about Microsoft:\\n1. Microsoft's revenue last quarter rose 10% year over year, despite a decline in demand for PCs and consumer tech devices. This growth was primarily driven by the success of its cloud and enterprise services, particularly the Azure platform.\\n2. Microsoft consistently generates a high operating profit margin, with over 40% of its sales turning into operating profit. In the most recent quarter, this key metric jumped an impressive 21%, showcasing the company's financial strength.\\n\\nNegative News about Microsoft:\\n1. Microsoft was found to have repeatedly violated the nation's antitrust laws in the late 1990s. While an appeals court upheld most of the findings, the government's preferred remedy of breaking up the company was not implemented.\\n2. The media industry expressed concerns and paranoia about Microsoft's ambitions and potential dominance in various sectors, with industry executives worrying about what Microsoft might do next.\\n\\nNeutral News about Microsoft:\\n1. The partnership between Microsoft and NBC in 1996 led to the creation of MSNBC, a cable channel, and msnbc.com, a website. However, Microsoft later divested its stakes in both ventures.\\n2. The Microsoft trial in the late 1990s, which dealt with antitrust allegations, received extensive coverage and attention from major news organizations, with The New York Times reporting on the proceedings daily.\""
      ]
     },
     "execution_count": 8,
     "metadata": {},
     "output_type": "execute_result"
    }
   ],
   "source": [
    "from langchain.llms import OpenAI\n",
    "from langchain.retrievers import ContextualCompressionRetriever\n",
    "from langchain.retrievers.document_compressors import LLMChainExtractor\n",
    "from langchain.chat_models import AzureChatOpenAI\n",
    "from langchain import LLMChain\n",
    "from langchain.prompts.chat import (\n",
    "    ChatPromptTemplate,\n",
    "    SystemMessagePromptTemplate,\n",
    "    HumanMessagePromptTemplate,\n",
    ")\n",
    "\n",
    "llm = AzureChatOpenAI(deployment_name=\"gpt-35-turbo-16k\", temperature=0.7)\n",
    "#compressor = LLMChainExtractor.from_llm(llm)\n",
    "#compression_retriever = ContextualCompressionRetriever(base_compressor=compressor, base_retriever=retriever)\n",
    "\n",
    "from langchain.chains import RetrievalQA\n",
    "from langchain.llms import OpenAIChat\n",
    "\n",
    "qa = RetrievalQA.from_chain_type(llm, chain_type='stuff', retriever=retriever)\n",
    "\n",
    "#compressed_docs = compression_retriever.get_relevant_documents(\"What are positive, negative and neutral news about Microsoft?\")\n",
    "query = \"What are positive, negative and neutral news about Microsoft? Give two examples of each\"\n",
    "qa.run(query)"
   ]
  },
  {
   "cell_type": "code",
   "execution_count": null,
   "id": "6257b350-c932-4b7b-8f1e-81f3c68824dd",
   "metadata": {},
   "outputs": [],
   "source": []
  }
 ],
 "metadata": {
  "kernelspec": {
   "display_name": "Python 3 (ipykernel)",
   "language": "python",
   "name": "python3"
  },
  "language_info": {
   "codemirror_mode": {
    "name": "ipython",
    "version": 3
   },
   "file_extension": ".py",
   "mimetype": "text/x-python",
   "name": "python",
   "nbconvert_exporter": "python",
   "pygments_lexer": "ipython3",
   "version": "3.10.10"
  }
 },
 "nbformat": 4,
 "nbformat_minor": 5
}
